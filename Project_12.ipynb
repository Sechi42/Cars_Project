{
 "cells": [
  {
   "cell_type": "markdown",
   "metadata": {},
   "source": [
    "El servicio de venta de autos usados Rusty Bargain está desarrollando una aplicación para atraer nuevos clientes. Gracias a esa app, puedes averiguar rápidamente el valor de mercado de tu coche. Tienes acceso al historial: especificaciones técnicas, versiones de equipamiento y precios. Tienes que crear un modelo que determine el valor de mercado.\n",
    "A Rusty Bargain le interesa:\n",
    "- la calidad de la predicción;\n",
    "- la velocidad de la predicción;\n",
    "- el tiempo requerido para el entrenamiento"
   ]
  },
  {
   "cell_type": "code",
   "execution_count": 37,
   "metadata": {},
   "outputs": [],
   "source": [
    "\n",
    "\n",
    "# Manipulación de datos\n",
    "import pandas as pd\n",
    "import numpy as np\n",
    "\n",
    "# Visualización de datos\n",
    "import matplotlib.pyplot as plt\n",
    "import seaborn as sns\n",
    "\n",
    "# Preprocesamiento de datos\n",
    "from sklearn.model_selection import train_test_split\n",
    "from sklearn.preprocessing import StandardScaler, OneHotEncoder\n",
    "from sklearn.compose import ColumnTransformer\n",
    "from sklearn.pipeline import Pipeline\n",
    "\n",
    "# Modelos\n",
    "from sklearn.linear_model import LinearRegression\n",
    "from sklearn.tree import DecisionTreeRegressor\n",
    "from sklearn.ensemble import RandomForestRegressor\n",
    "import lightgbm as lgb\n",
    "from xgboost import XGBRegressor\n",
    "from catboost import CatBoostRegressor\n",
    "\n",
    "# Evaluación del modelo\n",
    "from sklearn.metrics import mean_squared_error\n",
    "\n",
    "# Medición del tiempo de ejecución\n",
    "import time\n",
    "\n",
    "# Gestión de advertencias\n",
    "import warnings\n",
    "warnings.filterwarnings('ignore')"
   ]
  },
  {
   "cell_type": "markdown",
   "metadata": {},
   "source": [
    "## Preparación de datos"
   ]
  },
  {
   "cell_type": "code",
   "execution_count": 38,
   "metadata": {},
   "outputs": [],
   "source": [
    "# Carga de dataset\n",
    "\n",
    "df = pd.read_csv('car_data.csv')"
   ]
  },
  {
   "cell_type": "code",
   "execution_count": 39,
   "metadata": {},
   "outputs": [
    {
     "name": "stdout",
     "output_type": "stream",
     "text": [
      "<class 'pandas.core.frame.DataFrame'>\n",
      "RangeIndex: 354369 entries, 0 to 354368\n",
      "Data columns (total 16 columns):\n",
      " #   Column             Non-Null Count   Dtype \n",
      "---  ------             --------------   ----- \n",
      " 0   DateCrawled        354369 non-null  object\n",
      " 1   Price              354369 non-null  int64 \n",
      " 2   VehicleType        316879 non-null  object\n",
      " 3   RegistrationYear   354369 non-null  int64 \n",
      " 4   Gearbox            334536 non-null  object\n",
      " 5   Power              354369 non-null  int64 \n",
      " 6   Model              334664 non-null  object\n",
      " 7   Mileage            354369 non-null  int64 \n",
      " 8   RegistrationMonth  354369 non-null  int64 \n",
      " 9   FuelType           321474 non-null  object\n",
      " 10  Brand              354369 non-null  object\n",
      " 11  NotRepaired        283215 non-null  object\n",
      " 12  DateCreated        354369 non-null  object\n",
      " 13  NumberOfPictures   354369 non-null  int64 \n",
      " 14  PostalCode         354369 non-null  int64 \n",
      " 15  LastSeen           354369 non-null  object\n",
      "dtypes: int64(7), object(9)\n",
      "memory usage: 43.3+ MB\n"
     ]
    }
   ],
   "source": [
    "df.info()"
   ]
  },
  {
   "cell_type": "code",
   "execution_count": 40,
   "metadata": {},
   "outputs": [
    {
     "name": "stdout",
     "output_type": "stream",
     "text": [
      "<class 'pandas.core.frame.DataFrame'>\n",
      "RangeIndex: 354369 entries, 0 to 354368\n",
      "Data columns (total 16 columns):\n",
      " #   Column              Non-Null Count   Dtype \n",
      "---  ------              --------------   ----- \n",
      " 0   date_crawled        354369 non-null  object\n",
      " 1   price               354369 non-null  int64 \n",
      " 2   vehicle_type        316879 non-null  object\n",
      " 3   registration_year   354369 non-null  int64 \n",
      " 4   gear_box            334536 non-null  object\n",
      " 5   power               354369 non-null  int64 \n",
      " 6   model               334664 non-null  object\n",
      " 7   mileage             354369 non-null  int64 \n",
      " 8   registration_month  354369 non-null  int64 \n",
      " 9   fuel_type           321474 non-null  object\n",
      " 10  brand               354369 non-null  object\n",
      " 11  not_repaired        283215 non-null  object\n",
      " 12  date_created        354369 non-null  object\n",
      " 13  number_of_pictures  354369 non-null  int64 \n",
      " 14  postal_code         354369 non-null  int64 \n",
      " 15  last_seen           354369 non-null  object\n",
      "dtypes: int64(7), object(9)\n",
      "memory usage: 43.3+ MB\n"
     ]
    }
   ],
   "source": [
    "\n",
    "df_names = ['date_crawled', 'price', 'vehicle_type', 'registration_year', 'gear_box', 'power', \n",
    " 'model', 'mileage', 'registration_month', 'fuel_type', 'brand', 'not_repaired', \n",
    " 'date_created', 'number_of_pictures', 'postal_code', 'last_seen']\n",
    "df.columns = df_names\n",
    "\n",
    "df.info()"
   ]
  },
  {
   "cell_type": "code",
   "execution_count": 41,
   "metadata": {},
   "outputs": [
    {
     "name": "stdout",
     "output_type": "stream",
     "text": [
      "262\n",
      "0\n"
     ]
    }
   ],
   "source": [
    "# Chqueo de duplicados\n",
    "\n",
    "print(df.duplicated().sum())\n",
    "\n",
    "df = df.drop_duplicates().reset_index(drop=True)\n",
    "\n",
    "print(df.duplicated().sum())"
   ]
  },
  {
   "cell_type": "code",
   "execution_count": 42,
   "metadata": {},
   "outputs": [
    {
     "name": "stdout",
     "output_type": "stream",
     "text": [
      "<class 'pandas.core.frame.DataFrame'>\n",
      "RangeIndex: 354107 entries, 0 to 354106\n",
      "Data columns (total 16 columns):\n",
      " #   Column              Non-Null Count   Dtype \n",
      "---  ------              --------------   ----- \n",
      " 0   date_crawled        354107 non-null  object\n",
      " 1   price               354107 non-null  int64 \n",
      " 2   vehicle_type        316623 non-null  object\n",
      " 3   registration_year   354107 non-null  int64 \n",
      " 4   gear_box            334277 non-null  object\n",
      " 5   power               354107 non-null  int64 \n",
      " 6   model               334406 non-null  object\n",
      " 7   mileage             354107 non-null  int64 \n",
      " 8   registration_month  354107 non-null  int64 \n",
      " 9   fuel_type           321218 non-null  object\n",
      " 10  brand               354107 non-null  object\n",
      " 11  not_repaired        282962 non-null  object\n",
      " 12  date_created        354107 non-null  object\n",
      " 13  number_of_pictures  354107 non-null  int64 \n",
      " 14  postal_code         354107 non-null  int64 \n",
      " 15  last_seen           354107 non-null  object\n",
      "dtypes: int64(7), object(9)\n",
      "memory usage: 43.2+ MB\n"
     ]
    }
   ],
   "source": [
    "df.info()"
   ]
  },
  {
   "cell_type": "markdown",
   "metadata": {},
   "source": [
    "Después de eliminar los duplicados y cambiar los nombres de las columnas para una mejor visualización de las mimas, observo que hay una buena cantidad de entradas nulas en algunas columnas, por lo que a continuación trabajare en esto."
   ]
  },
  {
   "cell_type": "code",
   "execution_count": 46,
   "metadata": {},
   "outputs": [],
   "source": [
    "# Función de rellenado de datos nulos\n",
    "\n",
    "'''\n",
    "Toma los nombres de las columnas de un dataset dado y itera sobre cada columna \n",
    "chequeando que no haya entradas nulas y que esa columna sea tipo object,\n",
    "si se cumplen las condiciones rellena esa columna con el string 'Unknown'\n",
    "\n",
    "    Args:\n",
    "        dataset : Simple dataFrame de pandas\n",
    "    Returns:\n",
    "        datase : Retorna el dataset con las columnas string rellenas\n",
    "    \"\"\"\n",
    "'''\n",
    "\n",
    "def null_full(dataset):\n",
    "    for i in dataset.columns:\n",
    "        if dataset[i].isnull().count() > 0 and dataset[i].dtype == object:\n",
    "            dataset[i] = dataset[i].fillna('Unknown')\n",
    "        \n",
    "    return dataset            "
   ]
  },
  {
   "cell_type": "code",
   "execution_count": 49,
   "metadata": {},
   "outputs": [
    {
     "name": "stdout",
     "output_type": "stream",
     "text": [
      "<class 'pandas.core.frame.DataFrame'>\n",
      "RangeIndex: 354107 entries, 0 to 354106\n",
      "Data columns (total 16 columns):\n",
      " #   Column              Non-Null Count   Dtype \n",
      "---  ------              --------------   ----- \n",
      " 0   date_crawled        354107 non-null  object\n",
      " 1   price               354107 non-null  int64 \n",
      " 2   vehicle_type        354107 non-null  object\n",
      " 3   registration_year   354107 non-null  int64 \n",
      " 4   gear_box            354107 non-null  object\n",
      " 5   power               354107 non-null  int64 \n",
      " 6   model               354107 non-null  object\n",
      " 7   mileage             354107 non-null  int64 \n",
      " 8   registration_month  354107 non-null  int64 \n",
      " 9   fuel_type           354107 non-null  object\n",
      " 10  brand               354107 non-null  object\n",
      " 11  not_repaired        354107 non-null  object\n",
      " 12  date_created        354107 non-null  object\n",
      " 13  number_of_pictures  354107 non-null  int64 \n",
      " 14  postal_code         354107 non-null  int64 \n",
      " 15  last_seen           354107 non-null  object\n",
      "dtypes: int64(7), object(9)\n",
      "memory usage: 43.2+ MB\n"
     ]
    }
   ],
   "source": [
    "# Rellenado de entradas nulas\n",
    "\n",
    "df = null_full(df)\n",
    "\n",
    "df.info()"
   ]
  },
  {
   "cell_type": "markdown",
   "metadata": {},
   "source": [
    "Ahora observo en los datos que algunas son fechas con horas, estas las trabajare con un función de la misma forma para convertirlos a datetime"
   ]
  },
  {
   "cell_type": "code",
   "execution_count": 53,
   "metadata": {},
   "outputs": [
    {
     "name": "stdout",
     "output_type": "stream",
     "text": [
      "<class 'pandas.core.frame.DataFrame'>\n",
      "RangeIndex: 354107 entries, 0 to 354106\n",
      "Data columns (total 16 columns):\n",
      " #   Column              Non-Null Count   Dtype         \n",
      "---  ------              --------------   -----         \n",
      " 0   date_crawled        354107 non-null  datetime64[ns]\n",
      " 1   price               354107 non-null  int64         \n",
      " 2   vehicle_type        354107 non-null  object        \n",
      " 3   registration_year   354107 non-null  int64         \n",
      " 4   gear_box            354107 non-null  object        \n",
      " 5   power               354107 non-null  int64         \n",
      " 6   model               354107 non-null  object        \n",
      " 7   mileage             354107 non-null  int64         \n",
      " 8   registration_month  354107 non-null  int64         \n",
      " 9   fuel_type           354107 non-null  object        \n",
      " 10  brand               354107 non-null  object        \n",
      " 11  not_repaired        354107 non-null  object        \n",
      " 12  date_created        354107 non-null  datetime64[ns]\n",
      " 13  number_of_pictures  354107 non-null  int64         \n",
      " 14  postal_code         354107 non-null  int64         \n",
      " 15  last_seen           354107 non-null  datetime64[ns]\n",
      "dtypes: datetime64[ns](3), int64(7), object(6)\n",
      "memory usage: 43.2+ MB\n"
     ]
    }
   ],
   "source": [
    "# Convertir las columnas a tipo datetime\n",
    "\n",
    "df['date_crawled'] = pd.to_datetime(df['date_crawled'], format='%d/%m/%Y %H:%M')\n",
    "\n",
    "df['date_created'] = pd.to_datetime(df['date_created'], format='%d/%m/%Y %H:%M')\n",
    "\n",
    "df['last_seen'] = pd.to_datetime(df['last_seen'], format='%d/%m/%Y %H:%M')\n",
    "\n",
    "df.info()"
   ]
  },
  {
   "cell_type": "markdown",
   "metadata": {},
   "source": [
    "## Entrenamiento del modelo "
   ]
  },
  {
   "cell_type": "markdown",
   "metadata": {},
   "source": [
    "## Análisis del modelo"
   ]
  },
  {
   "cell_type": "markdown",
   "metadata": {},
   "source": [
    "# Lista de control\n",
    "\n",
    "- [x]  Jupyter Notebook está abierto\n",
    "- [ ]  El código no tiene errores- [ ]  Las celdas con el código han sido colocadas en orden de ejecución- [ ]  Los datos han sido descargados y preparados- [ ]  Los modelos han sido entrenados\n",
    "- [ ]  Se realizó el análisis de velocidad y calidad de los modelos"
   ]
  }
 ],
 "metadata": {
  "kernelspec": {
   "display_name": "Python 3",
   "language": "python",
   "name": "python3"
  },
  "language_info": {
   "codemirror_mode": {
    "name": "ipython",
    "version": 3
   },
   "file_extension": ".py",
   "mimetype": "text/x-python",
   "name": "python",
   "nbconvert_exporter": "python",
   "pygments_lexer": "ipython3",
   "version": "3.12.3"
  }
 },
 "nbformat": 4,
 "nbformat_minor": 2
}
